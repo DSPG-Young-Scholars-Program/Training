{
 "cells": [
  {
   "cell_type": "markdown",
   "metadata": {},
   "source": [
    "# Example: PCA applied to MNIST\n",
    "\n",
    "This notebook shows how PCA can be applied to a non-trivial data set to reduce its dimensionality.\n",
    "PCA (and its variations, like Incremental PCA) is a useful tool to reduce the dimensionality of your feature space to boost model training performance.\n",
    "In this example, we will examine how vanilla PCA affects the MNIST data set."
   ]
  },
  {
   "cell_type": "code",
   "execution_count": null,
   "metadata": {},
   "outputs": [],
   "source": [
    "%matplotlib inline\n",
    "import matplotlib\n",
    "import matplotlib.pyplot as plt\n",
    "matplotlib.rcParams.update({'font.size': 18})\n",
    "\n",
    "import numpy as np\n",
    "\n",
    "from sklearn.decomposition import PCA\n",
    "from sklearn.model_selection import train_test_split\n",
    "\n",
    "# Load my smaller MNIST data set...\n",
    "X = np.load('data/mnist/mnist_data.pkl')\n",
    "y = np.load('data/mnist/mnist_target.pkl')\n",
    "# Create the training and test sets\n",
    "X_train, X_test, y_train, y_test = train_test_split(X, y, test_size=0.25, random_state=42)"
   ]
  },
  {
   "cell_type": "markdown",
   "metadata": {},
   "source": [
    "A single instance of the input has **784 features**!"
   ]
  },
  {
   "cell_type": "code",
   "execution_count": null,
   "metadata": {},
   "outputs": [],
   "source": [
    "sample_idx = 0\n",
    "sample_digit = X_train[0,:]\n",
    "print(\"Dimension = {0}\".format(sample_digit.shape))"
   ]
  },
  {
   "cell_type": "markdown",
   "metadata": {},
   "source": [
    "Here is what that 28x28 = 784 dimension instance looks like:"
   ]
  },
  {
   "cell_type": "code",
   "execution_count": null,
   "metadata": {},
   "outputs": [],
   "source": [
    "digit_image = sample_digit.reshape(28,28)\n",
    "plt.imshow(digit_image, cmap=matplotlib.cm.binary, interpolation='nearest')\n",
    "plt.axis('on')\n",
    "plt.show()"
   ]
  },
  {
   "cell_type": "markdown",
   "metadata": {},
   "source": [
    "Let us assume that this feature space is too large for our chose classification algorithm.\n",
    "We could map the data set into a 196 dimensional space..."
   ]
  },
  {
   "cell_type": "code",
   "execution_count": null,
   "metadata": {},
   "outputs": [],
   "source": [
    "pca_1 = PCA(n_components=196, random_state=42)\n",
    "X_train_pca1 = pca_1.fit_transform(X_train)"
   ]
  },
  {
   "cell_type": "code",
   "execution_count": null,
   "metadata": {},
   "outputs": [],
   "source": [
    "sample_digit_pca1 = X_train_pca1[sample_idx]\n",
    "print(\"Dimension = {0}\".format(sample_digit_pca1.shape))"
   ]
  },
  {
   "cell_type": "code",
   "execution_count": null,
   "metadata": {},
   "outputs": [],
   "source": [
    "sample_digit_pca1_img = sample_digit_pca1.reshape(14,14)\n",
    "plt.imshow(sample_digit_pca1_img, cmap=matplotlib.cm.binary, interpolation='nearest')\n",
    "plt.axis('on')\n",
    "plt.show()"
   ]
  },
  {
   "cell_type": "markdown",
   "metadata": {},
   "source": [
    "Yikes! I thought we were getting a 14x14 image! \n",
    "Hmmm...wait a tick. We **compressed** the image into some 192 dimensional space that does not directly map to the originally intended pixel space!\n",
    "\n",
    "We should transform them back to see the **loss** due to this compression."
   ]
  },
  {
   "cell_type": "code",
   "execution_count": null,
   "metadata": {},
   "outputs": [],
   "source": [
    "X_train_recovered = pca_1.inverse_transform(X_train_pca1)\n",
    "X_train_recovered.shape"
   ]
  },
  {
   "cell_type": "code",
   "execution_count": null,
   "metadata": {},
   "outputs": [],
   "source": [
    "sample_digit_pca1_restored = X_train_recovered[0,:]\n",
    "print(\"Dimension = {0}\".format(sample_digit_pca1_restored.shape))"
   ]
  },
  {
   "cell_type": "markdown",
   "metadata": {},
   "source": [
    "As humans, we see that reducing the input features by a factor of 4 still makes the number legible.\n",
    "To our training algorithm, this reduction will result in faster training as the features are mapped to 196 dimensions with **highest variance**."
   ]
  },
  {
   "cell_type": "code",
   "execution_count": null,
   "metadata": {},
   "outputs": [],
   "source": [
    "sample_digit_pca1_res_img = sample_digit_pca1_restored.reshape(28,28)\n",
    "plt.imshow(sample_digit_pca1_res_img, cmap=matplotlib.cm.binary, interpolation='nearest')\n",
    "plt.axis('off')\n",
    "plt.title('Restored from 196D Space')\n",
    "plt.show()\n",
    "\n",
    "plt.imshow(digit_image, cmap=matplotlib.cm.binary, interpolation='nearest')\n",
    "plt.axis('off')\n",
    "plt.title('Original')\n",
    "plt.show()"
   ]
  },
  {
   "cell_type": "markdown",
   "metadata": {},
   "source": [
    "## Pushing the limits\n",
    "Now let's get crazy. What if we could smash these numbers into a 3D space?"
   ]
  },
  {
   "cell_type": "code",
   "execution_count": null,
   "metadata": {},
   "outputs": [],
   "source": [
    "pca_2 = PCA(n_components=3, random_state=42)\n",
    "X_train_pca2 = pca_2.fit_transform(X_train)"
   ]
  },
  {
   "cell_type": "markdown",
   "metadata": {},
   "source": [
    "As you will see, this compression has no intuition to us."
   ]
  },
  {
   "cell_type": "code",
   "execution_count": null,
   "metadata": {},
   "outputs": [],
   "source": [
    "X_train_pca2[0,:]"
   ]
  },
  {
   "cell_type": "code",
   "execution_count": null,
   "metadata": {},
   "outputs": [],
   "source": [
    "X_train_recovered_2 = pca_2.inverse_transform(X_train_pca2)\n",
    "sample_digit_pca2_restored = X_train_recovered_2[sample_idx,:]"
   ]
  },
  {
   "cell_type": "code",
   "execution_count": null,
   "metadata": {},
   "outputs": [],
   "source": [
    "sample_digit_pca2_res_img = sample_digit_pca2_restored.reshape(28,28)\n",
    "plt.imshow(sample_digit_pca2_res_img, cmap=matplotlib.cm.binary, interpolation='nearest')\n",
    "plt.axis('off')\n",
    "plt.title('Restored from 3D Space')\n",
    "plt.show()"
   ]
  },
  {
   "cell_type": "markdown",
   "metadata": {},
   "source": [
    "In this case, we see *some* visual cues that remain from the original instance; however, it is likely too lossy to be of any use!"
   ]
  },
  {
   "cell_type": "code",
   "execution_count": null,
   "metadata": {},
   "outputs": [],
   "source": []
  }
 ],
 "metadata": {
  "kernelspec": {
   "display_name": "Python 3",
   "language": "python",
   "name": "python3"
  },
  "language_info": {
   "codemirror_mode": {
    "name": "ipython",
    "version": 3
   },
   "file_extension": ".py",
   "mimetype": "text/x-python",
   "name": "python",
   "nbconvert_exporter": "python",
   "pygments_lexer": "ipython3",
   "version": "3.6.8"
  }
 },
 "nbformat": 4,
 "nbformat_minor": 2
}

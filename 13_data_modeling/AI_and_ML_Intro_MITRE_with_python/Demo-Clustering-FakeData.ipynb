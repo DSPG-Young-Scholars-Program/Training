{
 "cells": [
  {
   "cell_type": "markdown",
   "metadata": {},
   "source": [
    "# Clustering Tool Demonstration\n",
    "\n",
    "This demo code shows how you can apply KMeans to classify data in an unsupervised fashion. This demo will run on two toy data generation sets: blobs and moons."
   ]
  },
  {
   "cell_type": "code",
   "execution_count": null,
   "metadata": {},
   "outputs": [],
   "source": [
    "import numpy as np\n",
    "import matplotlib.pyplot as plt\n",
    "\n",
    "from sklearn.preprocessing import StandardScaler\n",
    "from sklearn import datasets"
   ]
  },
  {
   "cell_type": "code",
   "execution_count": null,
   "metadata": {},
   "outputs": [],
   "source": [
    "def plot_dataset(plot_handle,X,y,n_classes,centers=None):\n",
    "    colors = ['rs', 'bs', 'gs', 'ys', 'ks']\n",
    "    for i in range(0,n_classes):\n",
    "        plot_handle.plot(X[:,0][y==i], X[:,1][y==i], colors[i])\n",
    "    if centers is not None:\n",
    "        for c in centers:\n",
    "            plot_handle.plot(c[0],c[1], 'k*')\n",
    "    plot_handle.show()"
   ]
  },
  {
   "cell_type": "code",
   "execution_count": null,
   "metadata": {},
   "outputs": [],
   "source": [
    "n = 1000\n",
    "\n",
    "X_moons, y_moons = datasets.make_moons(n_samples=n, noise=.1)\n",
    "X_blobs, y_blobs = datasets.make_blobs(n_samples=n, cluster_std=2.0, centers=4)"
   ]
  },
  {
   "cell_type": "code",
   "execution_count": null,
   "metadata": {},
   "outputs": [],
   "source": [
    "fig1 = plt.figure(num=1, figsize=(8,5))\n",
    "plot_dataset(plt,X_moons, y_moons, n_classes=2)"
   ]
  },
  {
   "cell_type": "code",
   "execution_count": null,
   "metadata": {},
   "outputs": [],
   "source": [
    "# Plot the blob data\n",
    "fig2 = plt.figure(num=2, figsize=(8,5))\n",
    "plot_dataset(plt,X_blobs,y_blobs,n_classes=4)"
   ]
  },
  {
   "cell_type": "code",
   "execution_count": null,
   "metadata": {},
   "outputs": [],
   "source": [
    "# Experiment with KMeans clustering.\n",
    "from sklearn.cluster import KMeans"
   ]
  },
  {
   "cell_type": "code",
   "execution_count": null,
   "metadata": {},
   "outputs": [],
   "source": [
    "kmeans = KMeans(n_clusters=4, tol=1e-3, n_init=20)\n",
    "kmeans.fit(X_blobs)"
   ]
  },
  {
   "cell_type": "code",
   "execution_count": null,
   "metadata": {},
   "outputs": [],
   "source": [
    "y_pred = kmeans.predict(X_blobs)"
   ]
  },
  {
   "cell_type": "code",
   "execution_count": null,
   "metadata": {},
   "outputs": [],
   "source": [
    "fig3 = plt.figure(num=3, figsize=(8,5))\n",
    "plot_dataset(plt,X_blobs,y_pred,n_classes=4,centers=kmeans.cluster_centers_)"
   ]
  },
  {
   "cell_type": "code",
   "execution_count": null,
   "metadata": {},
   "outputs": [],
   "source": [
    "# How about the moons?\n",
    "kmeans_moons = KMeans(n_clusters=2, tol=1e-3, n_init=20)\n",
    "kmeans_moons.fit(X_moons)\n",
    "y_moons_pred = kmeans_moons.predict(X_moons)\n",
    "fig4 = plt.figure(num=4, figsize=(8,5))\n",
    "plot_dataset(plt, X_moons, y_moons_pred, n_classes=2, centers=kmeans_moons.cluster_centers_)"
   ]
  },
  {
   "cell_type": "markdown",
   "metadata": {},
   "source": [
    "Clearly, you need to understand the shape of your data before throwing KMeans (or really and clustering algorithm) at it.\n",
    "The `moon` toy dataset is in general more challenging for simple unsupervised and supervised techniques."
   ]
  },
  {
   "cell_type": "code",
   "execution_count": null,
   "metadata": {},
   "outputs": [],
   "source": []
  }
 ],
 "metadata": {
  "kernelspec": {
   "display_name": "Python 3",
   "language": "python",
   "name": "python3"
  },
  "language_info": {
   "codemirror_mode": {
    "name": "ipython",
    "version": 3
   },
   "file_extension": ".py",
   "mimetype": "text/x-python",
   "name": "python",
   "nbconvert_exporter": "python",
   "pygments_lexer": "ipython3",
   "version": "3.6.8"
  }
 },
 "nbformat": 4,
 "nbformat_minor": 2
}

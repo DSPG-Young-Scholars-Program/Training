{
 "cells": [
  {
   "cell_type": "code",
   "execution_count": null,
   "metadata": {},
   "outputs": [],
   "source": [
    "get_db_conn <-\n",
    "  function(db_name,\n",
    "           db_host = \"postgis_1\",\n",
    "           db_port = \"5432\",\n",
    "           db_user = Sys.getenv(\"db_userid\"),\n",
    "           db_pass = Sys.getenv(\"db_pwd\")) {\n",
    "    RPostgreSQL::dbConnect(\n",
    "      drv = RPostgreSQL::PostgreSQL(),\n",
    "      dbname = db_name,\n",
    "      host = db_host,\n",
    "      port = db_port,\n",
    "      user = db_user,\n",
    "      password = db_pass\n",
    "    )\n",
    "  }"
   ]
  }
 ],
 "metadata": {
  "kernelspec": {
   "display_name": "R",
   "language": "R",
   "name": "ir"
  },
  "language_info": {
   "name": ""
  }
 },
 "nbformat": 4,
 "nbformat_minor": 4
}
